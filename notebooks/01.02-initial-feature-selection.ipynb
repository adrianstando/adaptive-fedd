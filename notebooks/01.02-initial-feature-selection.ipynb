{
 "cells": [
  {
   "cell_type": "markdown",
   "metadata": {},
   "source": [
    "# Initial feature selection\n",
    "\n",
    "Calculating features for sliding windows in artificial ts in order to select the best subset for FEDD."
   ]
  },
  {
   "cell_type": "code",
   "execution_count": 1,
   "metadata": {
    "execution": {
     "iopub.execute_input": "2024-04-11T16:16:46.326435Z",
     "iopub.status.busy": "2024-04-11T16:16:46.325822Z",
     "iopub.status.idle": "2024-04-11T16:16:51.700398Z",
     "shell.execute_reply": "2024-04-11T16:16:51.699470Z"
    }
   },
   "outputs": [],
   "source": [
    "import pandas as pd\n",
    "import numpy as np\n",
    "import os\n",
    "\n",
    "from tsfresh.feature_extraction import feature_calculators\n",
    "from tsfresh.utilities.dataframe_functions import roll_time_series\n",
    "from tsfresh.feature_extraction.extraction import extract_features\n",
    "from tsfresh.feature_extraction.settings import ComprehensiveFCParameters\n",
    "\n",
    "from sklearn.feature_selection import mutual_info_regression"
   ]
  },
  {
   "cell_type": "code",
   "execution_count": 2,
   "metadata": {
    "execution": {
     "iopub.execute_input": "2024-04-11T16:16:51.704711Z",
     "iopub.status.busy": "2024-04-11T16:16:51.704190Z",
     "iopub.status.idle": "2024-04-11T16:16:51.708122Z",
     "shell.execute_reply": "2024-04-11T16:16:51.707551Z"
    }
   },
   "outputs": [],
   "source": [
    "import warnings\n",
    "\n",
    "warnings.filterwarnings(\"ignore\")"
   ]
  },
  {
   "cell_type": "code",
   "execution_count": 3,
   "metadata": {
    "execution": {
     "iopub.execute_input": "2024-04-11T16:16:51.711037Z",
     "iopub.status.busy": "2024-04-11T16:16:51.710754Z",
     "iopub.status.idle": "2024-04-11T16:16:51.713777Z",
     "shell.execute_reply": "2024-04-11T16:16:51.713248Z"
    }
   },
   "outputs": [],
   "source": [
    "N_CPU = 12"
   ]
  },
  {
   "cell_type": "code",
   "execution_count": null,
   "metadata": {},
   "outputs": [],
   "source": []
  },
  {
   "cell_type": "markdown",
   "metadata": {},
   "source": [
    "### Implementing missing features described in the FEDD paper"
   ]
  },
  {
   "cell_type": "code",
   "execution_count": 4,
   "metadata": {
    "execution": {
     "iopub.execute_input": "2024-04-11T16:16:51.717062Z",
     "iopub.status.busy": "2024-04-11T16:16:51.716768Z",
     "iopub.status.idle": "2024-04-11T16:16:51.721661Z",
     "shell.execute_reply": "2024-04-11T16:16:51.721124Z"
    }
   },
   "outputs": [],
   "source": [
    "@feature_calculators.set_property(\"fctype\", \"simple\")\n",
    "def turning_points(x):\n",
    "    dx = np.diff(x)\n",
    "    return float(np.sum(dx[1:] * dx[:-1] < 0))\n",
    "\n",
    "@feature_calculators.set_property(\"fctype\", \"simple\")\n",
    "def mutual_information(x, lag):\n",
    "    ts1 = np.array(x[:-lag]).reshape(-1, 1)\n",
    "    ts2 = np.array(x[lag:])\n",
    "    return mutual_info_regression(ts1, ts2)[0]\n",
    "\n",
    "setattr(feature_calculators, turning_points.__name__, turning_points)\n",
    "setattr(feature_calculators, mutual_information.__name__, mutual_information)"
   ]
  },
  {
   "cell_type": "code",
   "execution_count": null,
   "metadata": {},
   "outputs": [],
   "source": []
  },
  {
   "cell_type": "markdown",
   "metadata": {},
   "source": [
    "### Some functions to run calculations"
   ]
  },
  {
   "cell_type": "code",
   "execution_count": 5,
   "metadata": {
    "execution": {
     "iopub.execute_input": "2024-04-11T16:16:51.724457Z",
     "iopub.status.busy": "2024-04-11T16:16:51.724175Z",
     "iopub.status.idle": "2024-04-11T16:16:51.728178Z",
     "shell.execute_reply": "2024-04-11T16:16:51.727643Z"
    }
   },
   "outputs": [],
   "source": [
    "def rolled_time_series(data, window_size, padding, n_jobs=N_CPU):\n",
    "    rolled = roll_time_series(\n",
    "        data, column_id='id', column_sort='timestamp',\n",
    "        min_timeshift=window_size-1, max_timeshift=window_size-1, rolling_direction=padding,\n",
    "        n_jobs=n_jobs, disable_progressbar=True\n",
    "    )\n",
    "    rolled[['id1', 'window_end']] = pd.DataFrame(rolled['id'].values.tolist(), index=rolled.index)\n",
    "    return rolled[['window_end', 'timestamp', 'value']].reset_index(drop=True)"
   ]
  },
  {
   "cell_type": "code",
   "execution_count": 6,
   "metadata": {
    "execution": {
     "iopub.execute_input": "2024-04-11T16:16:51.730832Z",
     "iopub.status.busy": "2024-04-11T16:16:51.730556Z",
     "iopub.status.idle": "2024-04-11T16:16:51.735514Z",
     "shell.execute_reply": "2024-04-11T16:16:51.734986Z"
    }
   },
   "outputs": [],
   "source": [
    "def extract_all_features_for_ts(df_rolled, params, n_jobs=N_CPU):\n",
    "    df_features = extract_features(\n",
    "        df_rolled, column_id='window_end', column_sort='timestamp', \n",
    "        default_fc_parameters=params,\n",
    "        n_jobs=n_jobs,\n",
    "        disable_progressbar=True\n",
    "    )\n",
    "    # bicorrelation\n",
    "    df_rolled['value'] = df_rolled.groupby('window_end').transform(\n",
    "        lambda x: (x - x.mean()) / x.std()\n",
    "    )['value']\n",
    "    df_features1 = extract_features(\n",
    "        df_rolled, column_id='window_end', column_sort='timestamp', \n",
    "        default_fc_parameters={\n",
    "            \"c3\": [{\"lag\": lag} for lag in range(1, 4)]\n",
    "        },\n",
    "        n_jobs=n_jobs,\n",
    "        disable_progressbar=True\n",
    "    )\n",
    "    df_features1.columns = [f'value__bicorrelation__lag_{lag}' for lag in range(1, 4)]\n",
    "    df_features = pd.concat([df_features, df_features1], axis=1)\n",
    "    return df_features"
   ]
  },
  {
   "cell_type": "code",
   "execution_count": null,
   "metadata": {},
   "outputs": [],
   "source": []
  },
  {
   "cell_type": "markdown",
   "metadata": {},
   "source": [
    "### Parameters"
   ]
  },
  {
   "cell_type": "code",
   "execution_count": 7,
   "metadata": {
    "execution": {
     "iopub.execute_input": "2024-04-11T16:16:51.738158Z",
     "iopub.status.busy": "2024-04-11T16:16:51.737881Z",
     "iopub.status.idle": "2024-04-11T16:16:51.743117Z",
     "shell.execute_reply": "2024-04-11T16:16:51.742583Z"
    }
   },
   "outputs": [],
   "source": [
    "params = ComprehensiveFCParameters()\n",
    "params[turning_points.__name__] = None\n",
    "params[mutual_information.__name__] = [{\"lag\": lag} for lag in [1, 2, 3]]"
   ]
  },
  {
   "cell_type": "code",
   "execution_count": null,
   "metadata": {},
   "outputs": [],
   "source": []
  },
  {
   "cell_type": "markdown",
   "metadata": {},
   "source": [
    "### Running feature extraction"
   ]
  },
  {
   "cell_type": "code",
   "execution_count": 8,
   "metadata": {
    "execution": {
     "iopub.execute_input": "2024-04-11T16:16:51.745774Z",
     "iopub.status.busy": "2024-04-11T16:16:51.745497Z",
     "iopub.status.idle": "2024-04-11T16:16:51.749018Z",
     "shell.execute_reply": "2024-04-11T16:16:51.748490Z"
    }
   },
   "outputs": [],
   "source": [
    "def find_csv_files(path):\n",
    "    files = os.listdir(path)\n",
    "    files = [filename for filename in files if filename.endswith('.csv')]\n",
    "    files = [os.path.join(path, file) for file in files]\n",
    "    return files"
   ]
  },
  {
   "cell_type": "code",
   "execution_count": 9,
   "metadata": {
    "execution": {
     "iopub.execute_input": "2024-04-11T16:16:51.751532Z",
     "iopub.status.busy": "2024-04-11T16:16:51.751259Z",
     "iopub.status.idle": "2024-04-11T16:16:51.757611Z",
     "shell.execute_reply": "2024-04-11T16:16:51.757055Z"
    }
   },
   "outputs": [],
   "source": [
    "artificial_ts_files = find_csv_files('../data/raw/2024_04_11_artificial_data')\n",
    "root_interim_path = '../data/interim/2024_04_11_artificial_data'\n",
    "artificial_interim_path = os.path.join(root_interim_path, 'features')\n",
    "os.makedirs(artificial_interim_path, exist_ok=True)"
   ]
  },
  {
   "cell_type": "code",
   "execution_count": 10,
   "metadata": {
    "execution": {
     "iopub.execute_input": "2024-04-11T16:16:51.760156Z",
     "iopub.status.busy": "2024-04-11T16:16:51.759885Z",
     "iopub.status.idle": "2024-04-11T16:32:47.204074Z",
     "shell.execute_reply": "2024-04-11T16:32:47.203511Z"
    }
   },
   "outputs": [],
   "source": [
    "window_size = 24 * 7 # something like 24 h * 7 days --> 1 week\n",
    "padding = 1 * 6 # something like 6 h --> 6 hours\n",
    "\n",
    "for file in artificial_ts_files:\n",
    "    df = pd.read_csv(file, index_col=0)\n",
    "    df['id'] = 0\n",
    "    df_rolled = rolled_time_series(df, window_size, padding)\n",
    "    df_features = extract_all_features_for_ts(df_rolled, params=params)\n",
    "    df_features.to_csv(os.path.join(artificial_interim_path, os.path.basename(file)))"
   ]
  },
  {
   "cell_type": "code",
   "execution_count": null,
   "metadata": {},
   "outputs": [],
   "source": []
  },
  {
   "cell_type": "markdown",
   "metadata": {},
   "source": [
    "### Running ADWIN on features"
   ]
  },
  {
   "cell_type": "code",
   "execution_count": 11,
   "metadata": {
    "execution": {
     "iopub.execute_input": "2024-04-11T16:32:47.206728Z",
     "iopub.status.busy": "2024-04-11T16:32:47.206544Z",
     "iopub.status.idle": "2024-04-11T16:32:47.541257Z",
     "shell.execute_reply": "2024-04-11T16:32:47.540605Z"
    }
   },
   "outputs": [],
   "source": [
    "from river.drift import ADWIN\n",
    "from multiprocessing import Pool"
   ]
  },
  {
   "cell_type": "code",
   "execution_count": 12,
   "metadata": {
    "execution": {
     "iopub.execute_input": "2024-04-11T16:32:47.544274Z",
     "iopub.status.busy": "2024-04-11T16:32:47.543981Z",
     "iopub.status.idle": "2024-04-11T16:32:47.550588Z",
     "shell.execute_reply": "2024-04-11T16:32:47.550019Z"
    }
   },
   "outputs": [],
   "source": [
    "def run_adwin(file):\n",
    "    df = pd.read_csv(file, index_col=0)\n",
    "    df = df.dropna(axis=1, how='any')\n",
    "    results = pd.DataFrame()\n",
    "\n",
    "    for feature in df.columns:\n",
    "        s = df.loc[:, [feature]].copy().reset_index()\n",
    "        s.columns = ['timestamp', 'value']\n",
    "        adwin = ADWIN(clock=4, grace_period=28)\n",
    "        detected = []\n",
    "\n",
    "        for index, row in s.iterrows():\n",
    "            adwin.update(row['value'])\n",
    "            if adwin.drift_detected:\n",
    "                detected.append(row['timestamp'])\n",
    "        \n",
    "        res = pd.DataFrame({\n",
    "            'feature': [feature[7:]],\n",
    "            'alarms': [len(detected)],\n",
    "            'drifts': [detected]\n",
    "        }, index=[0])\n",
    "\n",
    "        results = pd.concat([results, res])\n",
    "    \n",
    "    results['ts'] = os.path.basename(file)\n",
    "    results['group'] = file.split('/')[-2]\n",
    "\n",
    "    return results"
   ]
  },
  {
   "cell_type": "code",
   "execution_count": 13,
   "metadata": {
    "execution": {
     "iopub.execute_input": "2024-04-11T16:32:47.553261Z",
     "iopub.status.busy": "2024-04-11T16:32:47.552889Z",
     "iopub.status.idle": "2024-04-11T16:32:47.557416Z",
     "shell.execute_reply": "2024-04-11T16:32:47.556471Z"
    }
   },
   "outputs": [],
   "source": [
    "files = find_csv_files(artificial_interim_path)"
   ]
  },
  {
   "cell_type": "code",
   "execution_count": 14,
   "metadata": {
    "execution": {
     "iopub.execute_input": "2024-04-11T16:32:47.559888Z",
     "iopub.status.busy": "2024-04-11T16:32:47.559670Z",
     "iopub.status.idle": "2024-04-11T16:34:35.565811Z",
     "shell.execute_reply": "2024-04-11T16:34:35.564654Z"
    }
   },
   "outputs": [],
   "source": [
    "with Pool() as pool:\n",
    "    results = pool.map(run_adwin, files)"
   ]
  },
  {
   "cell_type": "code",
   "execution_count": 15,
   "metadata": {
    "execution": {
     "iopub.execute_input": "2024-04-11T16:34:35.570012Z",
     "iopub.status.busy": "2024-04-11T16:34:35.569606Z",
     "iopub.status.idle": "2024-04-11T16:34:35.793097Z",
     "shell.execute_reply": "2024-04-11T16:34:35.792257Z"
    }
   },
   "outputs": [],
   "source": [
    "results_concat = pd.concat(results)\n",
    "results_concat.to_csv(os.path.join(root_interim_path, 'adwin_results.csv'))"
   ]
  },
  {
   "cell_type": "code",
   "execution_count": null,
   "metadata": {},
   "outputs": [],
   "source": []
  },
  {
   "cell_type": "code",
   "execution_count": null,
   "metadata": {},
   "outputs": [],
   "source": []
  }
 ],
 "metadata": {
  "language_info": {
   "codemirror_mode": {
    "name": "ipython",
    "version": 3
   },
   "file_extension": ".py",
   "mimetype": "text/x-python",
   "name": "python",
   "nbconvert_exporter": "python",
   "pygments_lexer": "ipython3",
   "version": "3.12.2"
  }
 },
 "nbformat": 4,
 "nbformat_minor": 2
}
