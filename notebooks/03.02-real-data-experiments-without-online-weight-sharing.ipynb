{
 "cells": [
  {
   "cell_type": "markdown",
   "metadata": {},
   "source": [
    "# Running experiments on the artificial data without online weight sharing"
   ]
  },
  {
   "cell_type": "code",
   "execution_count": 1,
   "metadata": {},
   "outputs": [],
   "source": [
    "import os\n",
    "import pandas as pd\n",
    "import numpy as np"
   ]
  },
  {
   "cell_type": "code",
   "execution_count": null,
   "metadata": {},
   "outputs": [],
   "source": []
  },
  {
   "cell_type": "markdown",
   "metadata": {},
   "source": [
    "### Find time series files"
   ]
  },
  {
   "cell_type": "code",
   "execution_count": 2,
   "metadata": {},
   "outputs": [],
   "source": [
    "def find_csv_files(path):\n",
    "    files = os.listdir(path)\n",
    "    files = [filename for filename in files if filename.endswith('.csv')]\n",
    "    files = [os.path.join(path, file) for file in files]\n",
    "    return files\n",
    "\n",
    "artificial_ts_files = find_csv_files('../data/raw/ING')"
   ]
  },
  {
   "cell_type": "code",
   "execution_count": null,
   "metadata": {},
   "outputs": [],
   "source": []
  },
  {
   "cell_type": "markdown",
   "metadata": {},
   "source": [
    "### Create model input preprocessing"
   ]
  },
  {
   "cell_type": "code",
   "execution_count": 3,
   "metadata": {},
   "outputs": [],
   "source": [
    "from river import compose"
   ]
  },
  {
   "cell_type": "code",
   "execution_count": 4,
   "metadata": {},
   "outputs": [],
   "source": [
    "def get_daily_dummies_timestamp(x):\n",
    "    n = x['timestamp'].dayofweek\n",
    "    \n",
    "    return {\n",
    "        f'day_{i}': 1 if i == n else 0\n",
    "        for i in range(7)\n",
    "    }\n",
    "\n",
    "def get_hour_dummies_timestamp(x):\n",
    "    n = x['timestamp'].hour\n",
    "    \n",
    "    return {\n",
    "        f'hour_{i}': 1 if i == n else 0\n",
    "        for i in range(24)\n",
    "    }\n",
    "\n",
    "extract_features = compose.TransformerUnion(\n",
    "    get_daily_dummies_timestamp, get_hour_dummies_timestamp\n",
    ")"
   ]
  },
  {
   "cell_type": "code",
   "execution_count": null,
   "metadata": {},
   "outputs": [],
   "source": []
  },
  {
   "cell_type": "code",
   "execution_count": null,
   "metadata": {},
   "outputs": [],
   "source": []
  },
  {
   "cell_type": "markdown",
   "metadata": {},
   "source": [
    "### Definition of models and detectors"
   ]
  },
  {
   "cell_type": "code",
   "execution_count": 32,
   "metadata": {},
   "outputs": [],
   "source": [
    "from river.forest import ARFRegressor\n",
    "from lightgbm import LGBMRegressor\n",
    "from sklearn.ensemble import RandomForestRegressor"
   ]
  },
  {
   "cell_type": "code",
   "execution_count": 33,
   "metadata": {},
   "outputs": [],
   "source": [
    "from src.models import ARBatch, AROnline, ARFRegressorVirtualDrift\n",
    "from src.detectors import ADWIN, FEDD, AdaptiveFEDD, KSWIN, NoDrift"
   ]
  },
  {
   "cell_type": "code",
   "execution_count": 34,
   "metadata": {},
   "outputs": [],
   "source": [
    "from multiprocessing.managers import BaseManager\n",
    "from src.detectors.adaptive_fedd import MetadataManager, AdaptiveFeatureExtarctor"
   ]
  },
  {
   "cell_type": "code",
   "execution_count": 35,
   "metadata": {},
   "outputs": [],
   "source": [
    "random_seed = 42\n",
    "\n",
    "day_seasonality = 24 # 24 hours\n",
    "week_seasonality = day_seasonality * 7\n",
    "\n",
    "model_window_size = day_seasonality # the last day\n",
    "model_train_size = 14 * model_window_size # two weeks\n",
    "model_horizon = day_seasonality # one day in the future\n",
    "model_validation_size = 2 * day_seasonality # two days in the future\n",
    "\n",
    "stride = 6 # 6 hours = 1/4 of a day\n",
    "detector_window_size = week_seasonality # the last week\n",
    "detector_train_size = model_train_size # the same train size as for the model\n",
    "detector_train_size_n_shifts = int((detector_train_size - detector_window_size) / stride) # number of shifts for training\n",
    "\n",
    "adaptive_fedd_observed_features = 15 # number of observed features in Adaptive FEDD"
   ]
  },
  {
   "cell_type": "code",
   "execution_count": null,
   "metadata": {},
   "outputs": [],
   "source": []
  },
  {
   "cell_type": "markdown",
   "metadata": {},
   "source": [
    "Detectors"
   ]
  },
  {
   "cell_type": "code",
   "execution_count": 36,
   "metadata": {},
   "outputs": [],
   "source": [
    "adwin_virtual_drift = ADWIN(delta=0.002, grace_period=detector_train_size_n_shifts, clock=4)"
   ]
  },
  {
   "cell_type": "code",
   "execution_count": null,
   "metadata": {},
   "outputs": [],
   "source": [
    "def metadata_manager_creator(random_seed=random_seed):\n",
    "    metadata = pd.read_csv('../data/interim/2024_04_11_artificial_data/feature_metadata.csv', index_col=0)\n",
    "    metadata.columns = ['features', 'weight', 'true_positives', 'false_positives', 'n_truth', 'n_detected']\n",
    "    return MetadataManager(metadata=metadata, random_seed=random_seed)"
   ]
  },
  {
   "cell_type": "code",
   "execution_count": null,
   "metadata": {},
   "outputs": [],
   "source": [
    "def adaptive_fedd_arf_creator(is_warning, distance_with_weights=False):\n",
    "    if is_warning:\n",
    "        delta = 0.02\n",
    "    else:\n",
    "        delta = 0.002\n",
    "\n",
    "    return AdaptiveFEDD(\n",
    "        window_size=detector_window_size, stride=stride, queue_data=False, n_observed_features=adaptive_fedd_observed_features,\n",
    "        feature_extractor=AdaptiveFeatureExtarctor(metadata=metadata_manager_creator(), drift_detector=adwin_virtual_drift.clone()),\n",
    "        delta=delta, grace_period=detector_train_size_n_shifts, clock=4, distance_with_weights=distance_with_weights\n",
    "    )"
   ]
  },
  {
   "cell_type": "code",
   "execution_count": null,
   "metadata": {},
   "outputs": [],
   "source": [
    "def adaptive_fedd_creator(distance_with_weights=False):\n",
    "    return AdaptiveFEDD(\n",
    "        window_size=detector_window_size, stride=stride, queue_data=True, n_observed_features=adaptive_fedd_observed_features,\n",
    "        feature_extractor=AdaptiveFeatureExtarctor(metadata=metadata_manager_creator(), drift_detector=adwin_virtual_drift.clone()),\n",
    "        delta=0.002, grace_period=detector_train_size_n_shifts, clock=4, distance_with_weights=distance_with_weights\n",
    "    )"
   ]
  },
  {
   "cell_type": "code",
   "execution_count": null,
   "metadata": {},
   "outputs": [],
   "source": []
  },
  {
   "cell_type": "markdown",
   "metadata": {},
   "source": [
    "Models"
   ]
  },
  {
   "cell_type": "code",
   "execution_count": 40,
   "metadata": {},
   "outputs": [],
   "source": [
    "arx_batch = (\n",
    "    extract_features | \n",
    "    ARBatch(p=model_window_size, train_size=model_train_size, y_hat_min=0, y_hat_max=100)\n",
    ")\n",
    "\n",
    "arx_online = (\n",
    "    extract_features | \n",
    "    AROnline(p=model_window_size, y_hat_min=0, y_hat_max=100)\n",
    ")"
   ]
  },
  {
   "cell_type": "code",
   "execution_count": 41,
   "metadata": {},
   "outputs": [],
   "source": [
    "lightgbm_batch = (\n",
    "    extract_features | \n",
    "    ARBatch(p=model_window_size, train_size=model_train_size, \n",
    "            regressor=LGBMRegressor(n_jobs=1, reg_alpha=0.1, reg_lambda=0.1, random_state=random_seed))\n",
    ")\n",
    "\n",
    "random_forest_batch = (\n",
    "    extract_features | \n",
    "    ARBatch(p=model_window_size, train_size=model_train_size, \n",
    "            regressor=RandomForestRegressor(n_jobs=1, random_state=random_seed))\n",
    ")"
   ]
  },
  {
   "cell_type": "code",
   "execution_count": 42,
   "metadata": {},
   "outputs": [],
   "source": [
    "adaptive_random_forest = (\n",
    "    extract_features |\n",
    "    AROnline(p=model_window_size, regressor=ARFRegressor(grace_period=10, seed=random_seed))\n",
    ")\n",
    "\n",
    "adaptive_random_forest_virtual_drift_adaptive_fedd = (\n",
    "    extract_features |\n",
    "    AROnline(p=max(model_window_size, detector_window_size), \n",
    "            regressor=ARFRegressorVirtualDrift(\n",
    "                drift_detector=adaptive_fedd_arf_creator(is_warning=False).clone(), warning_detector=adaptive_fedd_arf_creator(is_warning=True).clone(), \n",
    "                virtual_drift_columns=[f\"y-{i+1}\" for i in range(detector_window_size)], \n",
    "                model_columns=[f\"y-{i+1}\" for i in range(model_window_size)] + list(extract_features.transform_one({'timestamp': pd.Timestamp.now()}).keys()),\n",
    "                seed=random_seed, grace_period=10 # grace period for tree split\n",
    "            )\n",
    "    )\n",
    ")\n",
    "\n",
    "adaptive_random_forest_virtual_drift_adaptive_fedd_with_weights_in_distance = (\n",
    "    extract_features |\n",
    "    AROnline(p=max(model_window_size, detector_window_size), \n",
    "            regressor=ARFRegressorVirtualDrift(\n",
    "                drift_detector=adaptive_fedd_arf_creator(is_warning=False, distance_with_weights=True).clone(), \n",
    "                warning_detector=adaptive_fedd_arf_creator(is_warning=True, distance_with_weights=True).clone(), \n",
    "                virtual_drift_columns=[f\"y-{i+1}\" for i in range(detector_window_size)], \n",
    "                model_columns=[f\"y-{i+1}\" for i in range(model_window_size)] + list(extract_features.transform_one({'timestamp': pd.Timestamp.now()}).keys()),\n",
    "                seed=random_seed, grace_period=10 # grace period for tree split\n",
    "            )\n",
    "    )\n",
    ")"
   ]
  },
  {
   "cell_type": "code",
   "execution_count": null,
   "metadata": {},
   "outputs": [],
   "source": []
  },
  {
   "cell_type": "markdown",
   "metadata": {},
   "source": [
    "### Parameters"
   ]
  },
  {
   "cell_type": "code",
   "execution_count": 16,
   "metadata": {},
   "outputs": [],
   "source": [
    "from src.experiment import OnlineLearningExperiment, BatchLearningExperiment"
   ]
  },
  {
   "cell_type": "code",
   "execution_count": 17,
   "metadata": {},
   "outputs": [],
   "source": [
    "parameters = []"
   ]
  },
  {
   "cell_type": "code",
   "execution_count": 18,
   "metadata": {},
   "outputs": [],
   "source": [
    "# online learning\n",
    "model_list = [\n",
    "    ('online__arf__virtual_adaptive_fedd_without_weight_sharing', adaptive_random_forest_virtual_drift_adaptive_fedd),\n",
    "    ('online__arf__virtual_adaptive_fedd_without_weight_sharing_with_weight_in_distance', adaptive_random_forest_virtual_drift_adaptive_fedd_with_weights_in_distance)\n",
    "]"
   ]
  },
  {
   "cell_type": "code",
   "execution_count": 19,
   "metadata": {},
   "outputs": [],
   "source": [
    "for time_series_path in artificial_ts_files:\n",
    "    for model_name, model_obj in model_list:\n",
    "        data = pd.read_csv(time_series_path, index_col=0)\n",
    "        data['timestamp'] = pd.to_datetime(data['timestamp'])\n",
    "\n",
    "        parameters.append(\n",
    "            (\n",
    "                time_series_path, model_name, OnlineLearningExperiment(\n",
    "                    data=data, model=model_obj.clone(),\n",
    "                    initial_grace_period=detector_train_size_n_shifts, horizon=model_horizon, stride=stride\n",
    "                )\n",
    "            )\n",
    "        )"
   ]
  },
  {
   "cell_type": "code",
   "execution_count": 22,
   "metadata": {},
   "outputs": [],
   "source": [
    "# advanced batch learning with validation\n",
    "model_list = [\n",
    "    ('batch__arx', arx_batch),\n",
    "    ('batch__lightgbm', lightgbm_batch), \n",
    "    ('batch__rf', random_forest_batch),\n",
    "]"
   ]
  },
  {
   "cell_type": "code",
   "execution_count": 23,
   "metadata": {},
   "outputs": [],
   "source": [
    "for time_series_path in artificial_ts_files:\n",
    "    for model_name, model_obj in model_list:\n",
    "        model_full_name = f\"{model_name}__adaptive_fedd_without_weight_sharing\"\n",
    "        data = pd.read_csv(time_series_path, index_col=0)\n",
    "        data['timestamp'] = pd.to_datetime(data['timestamp'])\n",
    "\n",
    "        parameters.append(\n",
    "            (\n",
    "                time_series_path, model_full_name, BatchLearningExperiment(\n",
    "                    data=data, base_model=model_obj.clone(), horizon=model_horizon,\n",
    "                    base_detector=adaptive_fedd_creator().clone(), train_size=model_train_size, stride=stride, validation_size=model_validation_size\n",
    "                )\n",
    "            )\n",
    "        )\n",
    "\n",
    "        model_full_name = f\"{model_name}__adaptive_fedd_without_weight_sharing_with_weight_in_distance\"\n",
    "        parameters.append(\n",
    "            (\n",
    "                time_series_path, model_full_name, BatchLearningExperiment(\n",
    "                    data=data, base_model=model_obj.clone(), horizon=model_horizon,\n",
    "                    base_detector=adaptive_fedd_creator(distance_with_weights=True).clone(), train_size=model_train_size, stride=stride, validation_size=model_validation_size\n",
    "                )\n",
    "            )\n",
    "        )"
   ]
  },
  {
   "cell_type": "code",
   "execution_count": null,
   "metadata": {},
   "outputs": [],
   "source": []
  },
  {
   "cell_type": "markdown",
   "metadata": {},
   "source": [
    "### Run experiments"
   ]
  },
  {
   "cell_type": "code",
   "execution_count": 24,
   "metadata": {},
   "outputs": [],
   "source": [
    "import pickle\n",
    "from multiprocessing import Pool"
   ]
  },
  {
   "cell_type": "code",
   "execution_count": 25,
   "metadata": {},
   "outputs": [],
   "source": [
    "N_CPU = 8\n",
    "SAVE_PATH = '../data/processed/2024_06_10_real_data'\n",
    "os.makedirs(SAVE_PATH, exist_ok=True)"
   ]
  },
  {
   "cell_type": "code",
   "execution_count": 26,
   "metadata": {},
   "outputs": [],
   "source": [
    "def run_experiment_and_save_output(time_series_path, model_full_name, experiment_obj, save_path):\n",
    "    print(f\"Starting experiment: {model_full_name} on {time_series_path}\", flush=True)\n",
    "\n",
    "    ts_length = experiment_obj.max_len\n",
    "    for _ in range(ts_length):\n",
    "        experiment_obj.step()\n",
    "    \n",
    "    print(f\"Finished the experiment: {model_full_name} on {time_series_path}\", flush=True)\n",
    "    \n",
    "    ts_name = os.path.basename(time_series_path).replace('.csv', '')\n",
    "    path_directory_to_save = os.path.join(save_path, ts_name)\n",
    "    os.makedirs(path_directory_to_save, exist_ok=True)\n",
    "    path_to_save_pickle_file = os.path.join(path_directory_to_save, f\"{model_full_name}.pickle\")\n",
    "        \n",
    "    object_to_save = {\n",
    "        'path_to_save_pickle_file': path_to_save_pickle_file, \n",
    "        'time_series_path': time_series_path, \n",
    "        'model_full_name': model_full_name, \n",
    "        'experiment_obj': experiment_obj\n",
    "    }\n",
    "\n",
    "    with open(path_to_save_pickle_file, 'wb') as f:\n",
    "        pickle.dump(object_to_save, f)\n",
    "    \n",
    "    print(f\"Saved files for the experiment: {model_full_name} on {time_series_path}\", flush=True)"
   ]
  },
  {
   "cell_type": "code",
   "execution_count": 27,
   "metadata": {},
   "outputs": [],
   "source": [
    "# add save path to parameters\n",
    "for i in range(len(parameters)):\n",
    "    parameters[i] = parameters[i] + (SAVE_PATH, )"
   ]
  },
  {
   "cell_type": "code",
   "execution_count": null,
   "metadata": {},
   "outputs": [],
   "source": [
    "with Pool(N_CPU) as pool:\n",
    "    pool.starmap(run_experiment_and_save_output, parameters)"
   ]
  },
  {
   "cell_type": "code",
   "execution_count": null,
   "metadata": {},
   "outputs": [],
   "source": []
  }
 ],
 "metadata": {
  "kernelspec": {
   "display_name": "Python 3",
   "language": "python",
   "name": "python3"
  },
  "language_info": {
   "codemirror_mode": {
    "name": "ipython",
    "version": 3
   },
   "file_extension": ".py",
   "mimetype": "text/x-python",
   "name": "python",
   "nbconvert_exporter": "python",
   "pygments_lexer": "ipython3",
   "version": "3.12.2"
  }
 },
 "nbformat": 4,
 "nbformat_minor": 2
}
